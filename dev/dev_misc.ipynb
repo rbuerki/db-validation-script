{
 "cells": [
  {
   "cell_type": "markdown",
   "metadata": {
    "toc": true
   },
   "source": [
    "<h1>Table of Contents<span class=\"tocSkip\"></span></h1>\n",
    "<div class=\"toc\"><ul class=\"toc-item\"></ul></div>"
   ]
  },
  {
   "cell_type": "code",
   "execution_count": 42,
   "metadata": {
    "ExecuteTime": {
     "end_time": "2021-05-03T09:59:55.736624Z",
     "start_time": "2021-05-03T09:59:55.731627Z"
    }
   },
   "outputs": [],
   "source": [
    "import datetime as dt\n",
    "import pickle\n",
    "import sys\n",
    "from pathlib import Path\n",
    "from typing import Dict, List\n",
    "\n",
    "import codebook.EDA as EDA\n",
    "import codebook.clean as clean\n",
    "import numpy as np\n",
    "import pandas as pd\n",
    "import matplotlib.pyplot as plt\n",
    "import sqlalchemy\n",
    "import seaborn as sns\n",
    "from sqlalchemy.exc import ProgrammingError"
   ]
  },
  {
   "cell_type": "code",
   "execution_count": 32,
   "metadata": {
    "ExecuteTime": {
     "end_time": "2021-05-03T09:55:27.598376Z",
     "start_time": "2021-05-03T09:55:27.592384Z"
    }
   },
   "outputs": [
    {
     "name": "stdout",
     "output_type": "stream",
     "text": [
      "W:\\conda-environments\\py3\\python.exe\n",
      "3.7.9 (default, Aug 31 2020, 17:10:11) [MSC v.1916 64 bit (AMD64)]\n",
      "SQLalchemy 1.3.21\n"
     ]
    }
   ],
   "source": [
    "print(sys.executable)\n",
    "print(sys.version)\n",
    "print(f'SQLalchemy {sqlalchemy.__version__}')"
   ]
  },
  {
   "cell_type": "code",
   "execution_count": 40,
   "metadata": {
    "ExecuteTime": {
     "end_time": "2021-05-03T09:58:27.095189Z",
     "start_time": "2021-05-03T09:58:26.925278Z"
    }
   },
   "outputs": [],
   "source": [
    "# Connect to server, create engine\n",
    "\n",
    "from sqlalchemy import create_engine\n",
    "\n",
    "SERVER = 'agtst01'\n",
    "DB_NAME = 'SnippLoyalty_DW_LOEB'\n",
    "\n",
    "def connect_to_db(server, db_name):\n",
    "    con_str = f'mssql+pyodbc://@{server}/{db_name}?driver=ODBC Driver 13 for SQL Server'\n",
    "    engine = create_engine(con_str, fast_executemany=True)\n",
    "    connection = engine.connect()\n",
    "    return engine, connection\n",
    "\n",
    "engine, connection = connect_to_db(SERVER, DB_NAME)"
   ]
  },
  {
   "cell_type": "code",
   "execution_count": 72,
   "metadata": {
    "ExecuteTime": {
     "end_time": "2021-05-03T10:36:25.951589Z",
     "start_time": "2021-05-03T10:36:25.940589Z"
    }
   },
   "outputs": [],
   "source": [
    "# Load an existing tables_and_views_dict\n",
    "\n",
    "data_path = Path(\"../data/2021-05-03_catalyst_validation_data/structure\")\n",
    "file_name = \"SnippLoyalty_DW_LOEB_tables_and_views_2021-05-03-12-34-47\"\n",
    "\n",
    "with open(data_path / file_name, \"rb\") as f:\n",
    "    tables_views_old = pickle.load(f)"
   ]
  },
  {
   "cell_type": "code",
   "execution_count": 73,
   "metadata": {
    "ExecuteTime": {
     "end_time": "2021-05-03T10:36:26.408230Z",
     "start_time": "2021-05-03T10:36:26.403241Z"
    }
   },
   "outputs": [
    {
     "data": {
      "text/plain": [
       "78"
      ]
     },
     "execution_count": 73,
     "metadata": {},
     "output_type": "execute_result"
    }
   ],
   "source": [
    "len(tables_views_old[\"DimMember\"])"
   ]
  },
  {
   "cell_type": "code",
   "execution_count": 123,
   "metadata": {
    "ExecuteTime": {
     "end_time": "2021-05-03T12:25:08.589966Z",
     "start_time": "2021-05-03T12:25:08.581968Z"
    }
   },
   "outputs": [],
   "source": [
    "def create_new_empty_cols_dict(\n",
    "    db_name: str, \n",
    "    tables_views_new: Dict[ str, List[str]], \n",
    "    connection: sqlalchemy.engine.Connection, \n",
    "    n_rows: int = 50\n",
    ") -> Dict[ str, List[str]]:\n",
    "    \"\"\"TODO Use the new dict to check for columns with empty values in\n",
    "    the first n rows. Print the result.\n",
    "    \"\"\"\n",
    "    print(f\"\\nStart empty columns check (top {n_rows} rows) for {db_name} ...\\n\")\n",
    "    empty_cols_dict = {}\n",
    "\n",
    "    for table, columns in list(tables_views_new.items())[0:12]:\n",
    "        try:\n",
    "            query = f\"SELECT TOP {n_rows} * FROM [{table}]\"  # ORDER BY NEWID()\"\n",
    "            result = connection.execute(query).fetchall()\n",
    "            result_df = pd.DataFrame(result, columns=columns)\n",
    "            result_df.replace(\"\", np.NaN, inplace=True)  # that was a mean one ;-)\n",
    "            empty_cols = [col for col in result_df.columns if result_df[col].isnull().all() == True]\n",
    "            print(table, empty_cols)\n",
    "            if len(empty_cols) > 0:\n",
    "                empty_cols_dict[table] = empty_cols\n",
    "        except ProgrammingError:\n",
    "            print(f\"- Table/view '{table}' NOT PARSED! It is not included in analysis.\")\n",
    "            pass\n",
    "\n",
    "    count_total = len(list(tables_views_new.keys()))\n",
    "    count_empty = len(list(empty_cols_dict.keys()))\n",
    "    count_empty_cols = sum([len(v) for v in empty_cols_dict.values()])\n",
    "    print(f\"{count_empty} out of total {count_total} tables have \\\n",
    "          a total of {count_empty_cols} empty columns.\\n\")\n",
    "\n",
    "    for key, value in empty_cols_dict.items():\n",
    "        print(f\"- {key}: {value}\")\n",
    "        \n",
    "    return empty_cols_dict"
   ]
  },
  {
   "cell_type": "code",
   "execution_count": 124,
   "metadata": {
    "ExecuteTime": {
     "end_time": "2021-05-03T12:25:09.266040Z",
     "start_time": "2021-05-03T12:25:09.158329Z"
    }
   },
   "outputs": [
    {
     "name": "stdout",
     "output_type": "stream",
     "text": [
      "\n",
      "Start empty columns check (top 50 rows) for SnippLoyalty_DW_LOEB ...\n",
      "\n",
      "_RFM []\n",
      "DimAccountStatus []\n",
      "DimAddressValidStatus []\n",
      "DimAgeRange []\n",
      "DimAvatar ['LastName', 'SizingCode']\n",
      "DimBookingAddress ['BookingAddressName', 'BookingAddressSK', 'City', 'ContactNumber', 'CountryAK', 'CountryCode', 'CountryName', 'CreateTimestamp', 'DataSourceId', 'EmailAddress', 'FirstName', 'HouseNumber']\n",
      "DimBookingAddressCategory []\n",
      "DimBookingAddressType []\n",
      "DimClient []\n",
      "DimCurrency []\n",
      "DimDate []\n",
      "DimDeliveryAddress []\n",
      "2 out of total 87 tables have           a total of 14 empty columns.\n",
      "\n",
      "- DimAvatar: ['LastName', 'SizingCode']\n",
      "- DimBookingAddress: ['BookingAddressName', 'BookingAddressSK', 'City', 'ContactNumber', 'CountryAK', 'CountryCode', 'CountryName', 'CreateTimestamp', 'DataSourceId', 'EmailAddress', 'FirstName', 'HouseNumber']\n"
     ]
    }
   ],
   "source": [
    "tst = create_new_empty_cols_dict(\"SnippLoyalty_DW_LOEB\", tables_views_old, connection)"
   ]
  },
  {
   "cell_type": "code",
   "execution_count": 112,
   "metadata": {
    "ExecuteTime": {
     "end_time": "2021-05-03T12:20:22.229212Z",
     "start_time": "2021-05-03T12:20:22.225212Z"
    }
   },
   "outputs": [
    {
     "data": {
      "text/plain": [
       "{}"
      ]
     },
     "execution_count": 112,
     "metadata": {},
     "output_type": "execute_result"
    }
   ],
   "source": [
    "tst"
   ]
  },
  {
   "cell_type": "code",
   "execution_count": 14,
   "metadata": {
    "ExecuteTime": {
     "end_time": "2021-05-11T16:27:39.752820Z",
     "start_time": "2021-05-11T16:27:39.738818Z"
    }
   },
   "outputs": [
    {
     "data": {
      "text/html": [
       "<div>\n",
       "<style scoped>\n",
       "    .dataframe tbody tr th:only-of-type {\n",
       "        vertical-align: middle;\n",
       "    }\n",
       "\n",
       "    .dataframe tbody tr th {\n",
       "        vertical-align: top;\n",
       "    }\n",
       "\n",
       "    .dataframe thead th {\n",
       "        text-align: right;\n",
       "    }\n",
       "</style>\n",
       "<table border=\"1\" class=\"dataframe\">\n",
       "  <thead>\n",
       "    <tr style=\"text-align: right;\">\n",
       "      <th></th>\n",
       "      <th>a</th>\n",
       "      <th>b</th>\n",
       "      <th>c</th>\n",
       "    </tr>\n",
       "  </thead>\n",
       "  <tbody>\n",
       "    <tr>\n",
       "      <th>0</th>\n",
       "      <td>0.346903</td>\n",
       "      <td>0.523191</td>\n",
       "      <td>0.815546</td>\n",
       "    </tr>\n",
       "    <tr>\n",
       "      <th>1</th>\n",
       "      <td>0.858489</td>\n",
       "      <td>0.521185</td>\n",
       "      <td>0.999333</td>\n",
       "    </tr>\n",
       "  </tbody>\n",
       "</table>\n",
       "</div>"
      ],
      "text/plain": [
       "          a         b         c\n",
       "0  0.346903  0.523191  0.815546\n",
       "1  0.858489  0.521185  0.999333"
      ]
     },
     "execution_count": 14,
     "metadata": {},
     "output_type": "execute_result"
    }
   ],
   "source": [
    "import pandas as pd\n",
    "import numpy as np\n",
    "\n",
    "df = pd.DataFrame(np.random.rand(2, 3), columns=list('abc'))\n",
    "df[\"d\"] = \"a\"\n",
    "df = df.select_dtypes(include=np.number)\n",
    "df"
   ]
  },
  {
   "cell_type": "code",
   "execution_count": 4,
   "metadata": {
    "ExecuteTime": {
     "end_time": "2021-05-11T15:46:05.148648Z",
     "start_time": "2021-05-11T15:46:05.145652Z"
    }
   },
   "outputs": [],
   "source": [
    "df_v = df.to_numpy()\n",
    "df2_v = df.to_numpy()"
   ]
  },
  {
   "cell_type": "code",
   "execution_count": 5,
   "metadata": {
    "ExecuteTime": {
     "end_time": "2021-05-11T15:46:34.865824Z",
     "start_time": "2021-05-11T15:46:34.862821Z"
    }
   },
   "outputs": [],
   "source": [
    "df_diff = pd.DataFrame(df_v - df2_v, columns = df.columns)"
   ]
  },
  {
   "cell_type": "code",
   "execution_count": 6,
   "metadata": {
    "ExecuteTime": {
     "end_time": "2021-05-11T15:46:37.106705Z",
     "start_time": "2021-05-11T15:46:37.098705Z"
    }
   },
   "outputs": [
    {
     "data": {
      "text/html": [
       "<div>\n",
       "<style scoped>\n",
       "    .dataframe tbody tr th:only-of-type {\n",
       "        vertical-align: middle;\n",
       "    }\n",
       "\n",
       "    .dataframe tbody tr th {\n",
       "        vertical-align: top;\n",
       "    }\n",
       "\n",
       "    .dataframe thead th {\n",
       "        text-align: right;\n",
       "    }\n",
       "</style>\n",
       "<table border=\"1\" class=\"dataframe\">\n",
       "  <thead>\n",
       "    <tr style=\"text-align: right;\">\n",
       "      <th></th>\n",
       "      <th>a</th>\n",
       "      <th>b</th>\n",
       "      <th>c</th>\n",
       "    </tr>\n",
       "  </thead>\n",
       "  <tbody>\n",
       "    <tr>\n",
       "      <th>0</th>\n",
       "      <td>0.0</td>\n",
       "      <td>0.0</td>\n",
       "      <td>0.0</td>\n",
       "    </tr>\n",
       "    <tr>\n",
       "      <th>1</th>\n",
       "      <td>0.0</td>\n",
       "      <td>0.0</td>\n",
       "      <td>0.0</td>\n",
       "    </tr>\n",
       "  </tbody>\n",
       "</table>\n",
       "</div>"
      ],
      "text/plain": [
       "     a    b    c\n",
       "0  0.0  0.0  0.0\n",
       "1  0.0  0.0  0.0"
      ]
     },
     "execution_count": 6,
     "metadata": {},
     "output_type": "execute_result"
    }
   ],
   "source": [
    "df_diff"
   ]
  },
  {
   "cell_type": "code",
   "execution_count": 10,
   "metadata": {
    "ExecuteTime": {
     "end_time": "2021-05-11T15:47:35.863715Z",
     "start_time": "2021-05-11T15:47:35.857716Z"
    }
   },
   "outputs": [
    {
     "name": "stdout",
     "output_type": "stream",
     "text": [
      "0.77493480500492\n",
      "0.18505757868082395\n",
      "0.1317477623528206\n",
      "0.5656333721308152\n",
      "0.4449672672426237\n",
      "0.934701660893862\n"
     ]
    }
   ],
   "source": [
    "for row in df_v:\n",
    "    for val in row:\n",
    "        print(val)"
   ]
  },
  {
   "cell_type": "code",
   "execution_count": 20,
   "metadata": {
    "ExecuteTime": {
     "end_time": "2021-05-11T16:36:46.937523Z",
     "start_time": "2021-05-11T16:36:46.933522Z"
    }
   },
   "outputs": [],
   "source": [
    "def return_subtraction_df(df_1: pd.DataFrame, df_2: pd.DataFrame) -> pd.DataFrame:\n",
    "    \"\"\"TODO Docstring\"\"\"\n",
    "    num_cols = df_1.select_dtypes(include=np.number).columns\n",
    "    df_1_num_values = df_1.select_dtypes(include=np.number).to_numpy()\n",
    "    df_2_num_values = df_1.select_dtypes(include=np.number).to_numpy()\n",
    "    df_diff_values = df_1_num_values - df_2_num_values\n",
    "    df_diff = pd.DataFrame(df_diff_values, columns=num_cols, index=df_1[\"year_month\"])\n",
    "    return df_diff"
   ]
  },
  {
   "cell_type": "code",
   "execution_count": 17,
   "metadata": {
    "ExecuteTime": {
     "end_time": "2021-05-11T16:35:49.773894Z",
     "start_time": "2021-05-11T16:35:49.756894Z"
    }
   },
   "outputs": [],
   "source": [
    "ft = pd.read_parquet(\"ft\")\n",
    "fti = pd.read_parquet(\"fti\")"
   ]
  },
  {
   "cell_type": "code",
   "execution_count": 18,
   "metadata": {
    "ExecuteTime": {
     "end_time": "2021-05-11T16:35:52.980094Z",
     "start_time": "2021-05-11T16:35:52.970093Z"
    }
   },
   "outputs": [
    {
     "data": {
      "text/html": [
       "<div>\n",
       "<style scoped>\n",
       "    .dataframe tbody tr th:only-of-type {\n",
       "        vertical-align: middle;\n",
       "    }\n",
       "\n",
       "    .dataframe tbody tr th {\n",
       "        vertical-align: top;\n",
       "    }\n",
       "\n",
       "    .dataframe thead th {\n",
       "        text-align: right;\n",
       "    }\n",
       "</style>\n",
       "<table border=\"1\" class=\"dataframe\">\n",
       "  <thead>\n",
       "    <tr style=\"text-align: right;\">\n",
       "      <th></th>\n",
       "      <th>year_month</th>\n",
       "      <th>value</th>\n",
       "      <th>n_trxs</th>\n",
       "      <th>n_members</th>\n",
       "      <th>max_date</th>\n",
       "      <th>date_db_check</th>\n",
       "    </tr>\n",
       "  </thead>\n",
       "  <tbody>\n",
       "    <tr>\n",
       "      <th>0</th>\n",
       "      <td>202011</td>\n",
       "      <td>6310949.25</td>\n",
       "      <td>87761</td>\n",
       "      <td>33891</td>\n",
       "      <td>2020-11-30</td>\n",
       "      <td>2021-05-11</td>\n",
       "    </tr>\n",
       "    <tr>\n",
       "      <th>1</th>\n",
       "      <td>202012</td>\n",
       "      <td>4240550.85</td>\n",
       "      <td>68071</td>\n",
       "      <td>30098</td>\n",
       "      <td>2020-12-31</td>\n",
       "      <td>2021-05-11</td>\n",
       "    </tr>\n",
       "    <tr>\n",
       "      <th>2</th>\n",
       "      <td>202101</td>\n",
       "      <td>2226356.75</td>\n",
       "      <td>38652</td>\n",
       "      <td>19158</td>\n",
       "      <td>2021-01-30</td>\n",
       "      <td>2021-05-11</td>\n",
       "    </tr>\n",
       "    <tr>\n",
       "      <th>3</th>\n",
       "      <td>202102</td>\n",
       "      <td>414803.35</td>\n",
       "      <td>10497</td>\n",
       "      <td>5727</td>\n",
       "      <td>2021-02-27</td>\n",
       "      <td>2021-05-11</td>\n",
       "    </tr>\n",
       "    <tr>\n",
       "      <th>4</th>\n",
       "      <td>202103</td>\n",
       "      <td>3945794.75</td>\n",
       "      <td>56928</td>\n",
       "      <td>26403</td>\n",
       "      <td>2021-03-31</td>\n",
       "      <td>2021-05-11</td>\n",
       "    </tr>\n",
       "    <tr>\n",
       "      <th>5</th>\n",
       "      <td>202104</td>\n",
       "      <td>3293429.00</td>\n",
       "      <td>46483</td>\n",
       "      <td>23050</td>\n",
       "      <td>2021-04-30</td>\n",
       "      <td>2021-05-11</td>\n",
       "    </tr>\n",
       "  </tbody>\n",
       "</table>\n",
       "</div>"
      ],
      "text/plain": [
       "  year_month       value  n_trxs  n_members    max_date date_db_check\n",
       "0     202011  6310949.25   87761      33891  2020-11-30    2021-05-11\n",
       "1     202012  4240550.85   68071      30098  2020-12-31    2021-05-11\n",
       "2     202101  2226356.75   38652      19158  2021-01-30    2021-05-11\n",
       "3     202102   414803.35   10497       5727  2021-02-27    2021-05-11\n",
       "4     202103  3945794.75   56928      26403  2021-03-31    2021-05-11\n",
       "5     202104  3293429.00   46483      23050  2021-04-30    2021-05-11"
      ]
     },
     "execution_count": 18,
     "metadata": {},
     "output_type": "execute_result"
    }
   ],
   "source": [
    "ft"
   ]
  },
  {
   "cell_type": "code",
   "execution_count": 19,
   "metadata": {
    "ExecuteTime": {
     "end_time": "2021-05-11T16:35:57.504163Z",
     "start_time": "2021-05-11T16:35:57.494160Z"
    }
   },
   "outputs": [
    {
     "data": {
      "text/html": [
       "<div>\n",
       "<style scoped>\n",
       "    .dataframe tbody tr th:only-of-type {\n",
       "        vertical-align: middle;\n",
       "    }\n",
       "\n",
       "    .dataframe tbody tr th {\n",
       "        vertical-align: top;\n",
       "    }\n",
       "\n",
       "    .dataframe thead th {\n",
       "        text-align: right;\n",
       "    }\n",
       "</style>\n",
       "<table border=\"1\" class=\"dataframe\">\n",
       "  <thead>\n",
       "    <tr style=\"text-align: right;\">\n",
       "      <th></th>\n",
       "      <th>year_month</th>\n",
       "      <th>amount</th>\n",
       "      <th>n_trxs</th>\n",
       "      <th>max_date</th>\n",
       "      <th>date_db_check</th>\n",
       "    </tr>\n",
       "  </thead>\n",
       "  <tbody>\n",
       "    <tr>\n",
       "      <th>0</th>\n",
       "      <td>202011</td>\n",
       "      <td>6310949.25</td>\n",
       "      <td>87761</td>\n",
       "      <td>2020-11-30</td>\n",
       "      <td>2021-05-11</td>\n",
       "    </tr>\n",
       "    <tr>\n",
       "      <th>1</th>\n",
       "      <td>202012</td>\n",
       "      <td>4240550.85</td>\n",
       "      <td>68071</td>\n",
       "      <td>2020-12-31</td>\n",
       "      <td>2021-05-11</td>\n",
       "    </tr>\n",
       "    <tr>\n",
       "      <th>2</th>\n",
       "      <td>202101</td>\n",
       "      <td>2226356.75</td>\n",
       "      <td>38652</td>\n",
       "      <td>2021-01-30</td>\n",
       "      <td>2021-05-11</td>\n",
       "    </tr>\n",
       "    <tr>\n",
       "      <th>3</th>\n",
       "      <td>202102</td>\n",
       "      <td>414803.35</td>\n",
       "      <td>10497</td>\n",
       "      <td>2021-02-27</td>\n",
       "      <td>2021-05-11</td>\n",
       "    </tr>\n",
       "    <tr>\n",
       "      <th>4</th>\n",
       "      <td>202103</td>\n",
       "      <td>3945815.15</td>\n",
       "      <td>56928</td>\n",
       "      <td>2021-03-31</td>\n",
       "      <td>2021-05-11</td>\n",
       "    </tr>\n",
       "    <tr>\n",
       "      <th>5</th>\n",
       "      <td>202104</td>\n",
       "      <td>3293429.00</td>\n",
       "      <td>46483</td>\n",
       "      <td>2021-04-30</td>\n",
       "      <td>2021-05-11</td>\n",
       "    </tr>\n",
       "  </tbody>\n",
       "</table>\n",
       "</div>"
      ],
      "text/plain": [
       "  year_month      amount  n_trxs    max_date date_db_check\n",
       "0     202011  6310949.25   87761  2020-11-30    2021-05-11\n",
       "1     202012  4240550.85   68071  2020-12-31    2021-05-11\n",
       "2     202101  2226356.75   38652  2021-01-30    2021-05-11\n",
       "3     202102   414803.35   10497  2021-02-27    2021-05-11\n",
       "4     202103  3945815.15   56928  2021-03-31    2021-05-11\n",
       "5     202104  3293429.00   46483  2021-04-30    2021-05-11"
      ]
     },
     "execution_count": 19,
     "metadata": {},
     "output_type": "execute_result"
    }
   ],
   "source": [
    "fti"
   ]
  },
  {
   "cell_type": "code",
   "execution_count": 21,
   "metadata": {
    "ExecuteTime": {
     "end_time": "2021-05-11T16:37:00.851822Z",
     "start_time": "2021-05-11T16:37:00.833821Z"
    }
   },
   "outputs": [
    {
     "data": {
      "text/html": [
       "<div>\n",
       "<style scoped>\n",
       "    .dataframe tbody tr th:only-of-type {\n",
       "        vertical-align: middle;\n",
       "    }\n",
       "\n",
       "    .dataframe tbody tr th {\n",
       "        vertical-align: top;\n",
       "    }\n",
       "\n",
       "    .dataframe thead th {\n",
       "        text-align: right;\n",
       "    }\n",
       "</style>\n",
       "<table border=\"1\" class=\"dataframe\">\n",
       "  <thead>\n",
       "    <tr style=\"text-align: right;\">\n",
       "      <th></th>\n",
       "      <th>n_trxs</th>\n",
       "      <th>n_members</th>\n",
       "    </tr>\n",
       "    <tr>\n",
       "      <th>year_month</th>\n",
       "      <th></th>\n",
       "      <th></th>\n",
       "    </tr>\n",
       "  </thead>\n",
       "  <tbody>\n",
       "    <tr>\n",
       "      <th>202011</th>\n",
       "      <td>0</td>\n",
       "      <td>0</td>\n",
       "    </tr>\n",
       "    <tr>\n",
       "      <th>202012</th>\n",
       "      <td>0</td>\n",
       "      <td>0</td>\n",
       "    </tr>\n",
       "    <tr>\n",
       "      <th>202101</th>\n",
       "      <td>0</td>\n",
       "      <td>0</td>\n",
       "    </tr>\n",
       "    <tr>\n",
       "      <th>202102</th>\n",
       "      <td>0</td>\n",
       "      <td>0</td>\n",
       "    </tr>\n",
       "    <tr>\n",
       "      <th>202103</th>\n",
       "      <td>0</td>\n",
       "      <td>0</td>\n",
       "    </tr>\n",
       "    <tr>\n",
       "      <th>202104</th>\n",
       "      <td>0</td>\n",
       "      <td>0</td>\n",
       "    </tr>\n",
       "  </tbody>\n",
       "</table>\n",
       "</div>"
      ],
      "text/plain": [
       "            n_trxs  n_members\n",
       "year_month                   \n",
       "202011           0          0\n",
       "202012           0          0\n",
       "202101           0          0\n",
       "202102           0          0\n",
       "202103           0          0\n",
       "202104           0          0"
      ]
     },
     "execution_count": 21,
     "metadata": {},
     "output_type": "execute_result"
    }
   ],
   "source": [
    "return_subtraction_df(ft, fti)"
   ]
  },
  {
   "cell_type": "code",
   "execution_count": 43,
   "metadata": {
    "ExecuteTime": {
     "end_time": "2021-05-14T08:11:55.578891Z",
     "start_time": "2021-05-14T08:11:55.574890Z"
    }
   },
   "outputs": [],
   "source": [
    "td = {\"raph_1\": \"a\", \"raph_2\": \"b\", \"reb_x\": \"c\", \"raph_3\": \"test\"}\n",
    "# tdraph = {x: y for x, y in td.items() if x.startswith(\"raph\")}\n",
    "# tdraph"
   ]
  },
  {
   "cell_type": "code",
   "execution_count": 44,
   "metadata": {
    "ExecuteTime": {
     "end_time": "2021-05-14T08:11:56.057926Z",
     "start_time": "2021-05-14T08:11:56.050927Z"
    }
   },
   "outputs": [
    {
     "name": "stdout",
     "output_type": "stream",
     "text": [
      "['1', '2', 'raph']\n"
     ]
    },
    {
     "data": {
      "text/plain": [
       "{'1': 'a', '2': 'b', 'raph': 'test'}"
      ]
     },
     "execution_count": 44,
     "metadata": {},
     "output_type": "execute_result"
    }
   ],
   "source": [
    "new_keys = []\n",
    "for k in tdraph.keys():\n",
    "    try:\n",
    "        k = k.split(\"_\", 1)[1]\n",
    "        new_keys.append(k)\n",
    "    except IndexError:\n",
    "        new_keys.append(k)\n",
    "\n",
    "\n",
    "print(new_keys)    \n",
    "final_dict = dict(zip(new_keys, list(tdraph.values())))\n",
    "final_dict"
   ]
  },
  {
   "cell_type": "code",
   "execution_count": 55,
   "metadata": {
    "ExecuteTime": {
     "end_time": "2021-05-14T08:25:03.294631Z",
     "start_time": "2021-05-14T08:25:03.286631Z"
    }
   },
   "outputs": [],
   "source": [
    "from typing import Dict, Tuple\n",
    "import pandas as pd\n",
    "\n",
    "def grab_and_truncate_df_names_for_vendor(\n",
    "    vendor_name: str,\n",
    "    df_dict_new: Dict[str, pd.DataFrame],\n",
    "    df_dict_old: Dict[str, pd.DataFrame]\n",
    ") -> Tuple[Dict[str, pd.DataFrame], Dict[str, pd.DataFrame]]:\n",
    "    \"\"\"Return the df_dicts with the dfs for the relevant vendor only.\n",
    "    The df_names have the vendor_prefix removed.\n",
    "    \"\"\"\n",
    "    dict_list = []\n",
    "    for df_dict in [df_dict_new, df_dict_old]:\n",
    "        df_dict = {k: v for k, v in df_dict.items() if k.startswith(vendor_name)}.copy()\n",
    "        print(df_dict)\n",
    "        new_keys = []\n",
    "        for k in df_dict.keys():\n",
    "            try:\n",
    "                k = k.split(\"_\", 1)[1]\n",
    "                new_keys.append(k)\n",
    "            except IndexError:\n",
    "                print(\n",
    "                    \"Every key in the sql_queries dict \"\n",
    "                    \"has to start with a vendor name prefix.\")\n",
    "                raise\n",
    "        print(new_keys)\n",
    "        print(df_dict)\n",
    "        if len(new_keys) != list(df_dict.values()):\n",
    "            raise AssertionError(\"Problems with vendor name prefixes in \"\n",
    "                                 \"the dataframe dictionary keys.\"\n",
    "            )\n",
    "\n",
    "        df_dict = dict(zip(new_keys, list(df_dict.values())))\n",
    "        dict_list.append(df_dict)\n",
    "\n",
    "    df_dict_new, df_dict_old = dict_list[0], dict_list[1]\n",
    "    return df_dict_new, df_dict_old"
   ]
  },
  {
   "cell_type": "code",
   "execution_count": 56,
   "metadata": {
    "ExecuteTime": {
     "end_time": "2021-05-14T08:25:03.976077Z",
     "start_time": "2021-05-14T08:25:03.959082Z"
    }
   },
   "outputs": [
    {
     "name": "stdout",
     "output_type": "stream",
     "text": [
      "{'raph_1': 'a', 'raph_2': 'b', 'raph_3': 'test'}\n",
      "['1', '2', '3']\n",
      "{'raph_1': 'a', 'raph_2': 'b', 'raph_3': 'test'}\n"
     ]
    },
    {
     "ename": "AssertionError",
     "evalue": "Problems with vendor name prefixes in the dataframe dictionary keys.",
     "output_type": "error",
     "traceback": [
      "\u001b[1;31m---------------------------------------------------------------------------\u001b[0m",
      "\u001b[1;31mAssertionError\u001b[0m                            Traceback (most recent call last)",
      "\u001b[1;32m<ipython-input-56-d0e85da56c97>\u001b[0m in \u001b[0;36m<module>\u001b[1;34m\u001b[0m\n\u001b[1;32m----> 1\u001b[1;33m \u001b[0mx\u001b[0m\u001b[1;33m,\u001b[0m \u001b[0my\u001b[0m \u001b[1;33m=\u001b[0m \u001b[0mgrab_and_truncate_df_names_for_vendor\u001b[0m\u001b[1;33m(\u001b[0m \u001b[1;34m\"raph\"\u001b[0m\u001b[1;33m,\u001b[0m \u001b[0mtd\u001b[0m\u001b[1;33m,\u001b[0m \u001b[0mtd\u001b[0m\u001b[1;33m)\u001b[0m\u001b[1;33m\u001b[0m\u001b[1;33m\u001b[0m\u001b[0m\n\u001b[0m",
      "\u001b[1;32m<ipython-input-55-2d97e0502d4e>\u001b[0m in \u001b[0;36mgrab_and_truncate_df_names_for_vendor\u001b[1;34m(vendor_name, df_dict_new, df_dict_old)\u001b[0m\n\u001b[0;32m     27\u001b[0m         \u001b[0mprint\u001b[0m\u001b[1;33m(\u001b[0m\u001b[0mdf_dict\u001b[0m\u001b[1;33m)\u001b[0m\u001b[1;33m\u001b[0m\u001b[1;33m\u001b[0m\u001b[0m\n\u001b[0;32m     28\u001b[0m         \u001b[1;32mif\u001b[0m \u001b[0mlen\u001b[0m\u001b[1;33m(\u001b[0m\u001b[0mnew_keys\u001b[0m\u001b[1;33m)\u001b[0m \u001b[1;33m!=\u001b[0m \u001b[0mlist\u001b[0m\u001b[1;33m(\u001b[0m\u001b[0mdf_dict\u001b[0m\u001b[1;33m.\u001b[0m\u001b[0mvalues\u001b[0m\u001b[1;33m(\u001b[0m\u001b[1;33m)\u001b[0m\u001b[1;33m)\u001b[0m\u001b[1;33m:\u001b[0m\u001b[1;33m\u001b[0m\u001b[1;33m\u001b[0m\u001b[0m\n\u001b[1;32m---> 29\u001b[1;33m             raise AssertionError(\"Problems with vendor name prefixes in \"\n\u001b[0m\u001b[0;32m     30\u001b[0m                                  \u001b[1;34m\"the dataframe dictionary keys.\"\u001b[0m\u001b[1;33m\u001b[0m\u001b[1;33m\u001b[0m\u001b[0m\n\u001b[0;32m     31\u001b[0m             )\n",
      "\u001b[1;31mAssertionError\u001b[0m: Problems with vendor name prefixes in the dataframe dictionary keys."
     ]
    }
   ],
   "source": [
    "x, y = grab_and_truncate_df_names_for_vendor( \"raph\", td, td)"
   ]
  },
  {
   "cell_type": "code",
   "execution_count": 90,
   "metadata": {
    "ExecuteTime": {
     "end_time": "2021-05-14T09:05:09.525038Z",
     "start_time": "2021-05-14T09:05:09.500044Z"
    }
   },
   "outputs": [
    {
     "data": {
      "text/html": [
       "<div>\n",
       "<style scoped>\n",
       "    .dataframe tbody tr th:only-of-type {\n",
       "        vertical-align: middle;\n",
       "    }\n",
       "\n",
       "    .dataframe tbody tr th {\n",
       "        vertical-align: top;\n",
       "    }\n",
       "\n",
       "    .dataframe thead th {\n",
       "        text-align: right;\n",
       "    }\n",
       "</style>\n",
       "<table border=\"1\" class=\"dataframe\">\n",
       "  <thead>\n",
       "    <tr style=\"text-align: right;\">\n",
       "      <th></th>\n",
       "      <th>year_month</th>\n",
       "      <th>amount</th>\n",
       "      <th>n_trxs</th>\n",
       "      <th>max_date</th>\n",
       "      <th>date_db_check</th>\n",
       "    </tr>\n",
       "  </thead>\n",
       "  <tbody>\n",
       "    <tr>\n",
       "      <th>0</th>\n",
       "      <td>202011</td>\n",
       "      <td>6310949.2500</td>\n",
       "      <td>87761</td>\n",
       "      <td>2020-11-30</td>\n",
       "      <td>2021-05-11</td>\n",
       "    </tr>\n",
       "    <tr>\n",
       "      <th>1</th>\n",
       "      <td>202012</td>\n",
       "      <td>4240550.8500</td>\n",
       "      <td>68071</td>\n",
       "      <td>2020-12-31</td>\n",
       "      <td>2021-05-11</td>\n",
       "    </tr>\n",
       "    <tr>\n",
       "      <th>2</th>\n",
       "      <td>202101</td>\n",
       "      <td>2226356.7500</td>\n",
       "      <td>38652</td>\n",
       "      <td>2021-01-30</td>\n",
       "      <td>2021-05-11</td>\n",
       "    </tr>\n",
       "    <tr>\n",
       "      <th>3</th>\n",
       "      <td>202102</td>\n",
       "      <td>414803.3500</td>\n",
       "      <td>10497</td>\n",
       "      <td>2021-02-27</td>\n",
       "      <td>2021-05-11</td>\n",
       "    </tr>\n",
       "    <tr>\n",
       "      <th>4</th>\n",
       "      <td>202103</td>\n",
       "      <td>3945815.1500</td>\n",
       "      <td>56928</td>\n",
       "      <td>2021-03-31</td>\n",
       "      <td>2021-05-11</td>\n",
       "    </tr>\n",
       "    <tr>\n",
       "      <th>5</th>\n",
       "      <td>202104</td>\n",
       "      <td>3293429.0000</td>\n",
       "      <td>46483</td>\n",
       "      <td>2021-04-30</td>\n",
       "      <td>2021-05-11</td>\n",
       "    </tr>\n",
       "  </tbody>\n",
       "</table>\n",
       "</div>"
      ],
      "text/plain": [
       "  year_month        amount  n_trxs    max_date date_db_check\n",
       "0     202011  6310949.2500   87761  2020-11-30    2021-05-11\n",
       "1     202012  4240550.8500   68071  2020-12-31    2021-05-11\n",
       "2     202101  2226356.7500   38652  2021-01-30    2021-05-11\n",
       "3     202102   414803.3500   10497  2021-02-27    2021-05-11\n",
       "4     202103  3945815.1500   56928  2021-03-31    2021-05-11\n",
       "5     202104  3293429.0000   46483  2021-04-30    2021-05-11"
      ]
     },
     "execution_count": 90,
     "metadata": {},
     "output_type": "execute_result"
    }
   ],
   "source": [
    "import numpy as np\n",
    "df_1 = pd.read_parquet(\"ft\")\n",
    "df_2 = pd.read_parquet(\"fti\")\n",
    "\n",
    "df_1\n",
    "df_2"
   ]
  },
  {
   "cell_type": "code",
   "execution_count": 130,
   "metadata": {
    "ExecuteTime": {
     "end_time": "2021-05-14T09:27:08.205674Z",
     "start_time": "2021-05-14T09:27:08.198668Z"
    }
   },
   "outputs": [],
   "source": [
    "from pandas.api.types import is_numeric_dtype\n",
    "\n",
    "def return_subtraction_df(\n",
    "    df_1: pd.DataFrame,\n",
    "    df_2: pd.DataFrame,\n",
    "    index_col=\"yearmon\"\n",
    ") -> pd.DataFrame:\n",
    "    \"\"\"Return a dataframe with the values of the numeric cols\n",
    "    from df_2 subtracted from the numeric cols of df_1. You can pass\n",
    "    a column that exists in both df as index, default is `yearmon`. \n",
    "    Only the values with overlapping index values will be compared.\n",
    "    Important: Make sure the numeric cols are in the same order in\n",
    "    both dataframes, else the values will make no sense.\n",
    "    \"\"\"\n",
    "\n",
    "    df_1 = df_1.set_index(index_col).copy()\n",
    "    df_2 = df_2.set_index(index_col).copy()\n",
    "    \n",
    "    overlapping_index_values = sorted(list(set(df_1.index.intersection(df_2.index))))\n",
    "    print(overlapping_index_values)\n",
    "    num_cols = [col for col in df_1.columns if is_numeric_dtype(df_1[col])]\n",
    "    print(num_cols)\n",
    "    \n",
    "    print(df_1)\n",
    "    print(df_2)\n",
    "    \n",
    "    df_1_num_values = df_1.loc[overlapping_index_values, num_cols].to_numpy()\n",
    "    df_2_num_values = df_2.loc[overlapping_index_values, num_cols].to_numpy()\n",
    "    df_diff_values = df_1_num_values - df_2_num_values\n",
    "    df_diff = pd.DataFrame(\n",
    "        df_diff_values,\n",
    "        columns=num_cols,\n",
    "        index=sorted(overlapping_index_values)\n",
    "    )\n",
    "    return df_diff"
   ]
  },
  {
   "cell_type": "code",
   "execution_count": 137,
   "metadata": {
    "ExecuteTime": {
     "end_time": "2021-05-14T09:28:42.098173Z",
     "start_time": "2021-05-14T09:28:42.092167Z"
    }
   },
   "outputs": [
    {
     "name": "stdout",
     "output_type": "stream",
     "text": [
      "O\n",
      "O\n",
      "i\n",
      "i\n",
      "O\n",
      "O\n"
     ]
    }
   ],
   "source": [
    "for col in df_1:\n",
    "    print(df_1[col].dtype.kind)"
   ]
  },
  {
   "cell_type": "code",
   "execution_count": 131,
   "metadata": {
    "ExecuteTime": {
     "end_time": "2021-05-14T09:27:09.006745Z",
     "start_time": "2021-05-14T09:27:08.953728Z"
    }
   },
   "outputs": [
    {
     "name": "stdout",
     "output_type": "stream",
     "text": [
      "['202011', '202012', '202101', '202102', '202103', '202104']\n",
      "['n_trxs', 'n_members']\n",
      "                   value  n_trxs  n_members    max_date date_db_check\n",
      "year_month                                                           \n",
      "202011      6310949.2500   87761      33891  2020-11-30    2021-05-11\n",
      "202012      4240550.8500   68071      30098  2020-12-31    2021-05-11\n",
      "202101      2226356.7500   38652      19158  2021-01-30    2021-05-11\n",
      "202102       414803.3500   10497       5727  2021-02-27    2021-05-11\n",
      "202103      3945794.7500   56928      26403  2021-03-31    2021-05-11\n",
      "202104      3293429.0000   46483      23050  2021-04-30    2021-05-11\n",
      "                  amount  n_trxs    max_date date_db_check\n",
      "year_month                                                \n",
      "202011      6310949.2500   87761  2020-11-30    2021-05-11\n",
      "202012      4240550.8500   68071  2020-12-31    2021-05-11\n",
      "202101      2226356.7500   38652  2021-01-30    2021-05-11\n",
      "202102       414803.3500   10497  2021-02-27    2021-05-11\n",
      "202103      3945815.1500   56928  2021-03-31    2021-05-11\n",
      "202104      3293429.0000   46483  2021-04-30    2021-05-11\n"
     ]
    },
    {
     "ename": "KeyError",
     "evalue": "\"Passing list-likes to .loc or [] with any missing labels is no longer supported. The following labels were missing: Index(['n_members'], dtype='object'). See https://pandas.pydata.org/pandas-docs/stable/user_guide/indexing.html#deprecate-loc-reindex-listlike\"",
     "output_type": "error",
     "traceback": [
      "\u001b[1;31m---------------------------------------------------------------------------\u001b[0m",
      "\u001b[1;31mKeyError\u001b[0m                                  Traceback (most recent call last)",
      "\u001b[1;32m<ipython-input-131-8e2d02040f67>\u001b[0m in \u001b[0;36m<module>\u001b[1;34m\u001b[0m\n\u001b[1;32m----> 1\u001b[1;33m \u001b[0mreturn_subtraction_df\u001b[0m\u001b[1;33m(\u001b[0m\u001b[0mdf_1\u001b[0m\u001b[1;33m,\u001b[0m \u001b[0mdf_2\u001b[0m\u001b[1;33m,\u001b[0m \u001b[1;34m\"year_month\"\u001b[0m\u001b[1;33m)\u001b[0m\u001b[1;33m\u001b[0m\u001b[1;33m\u001b[0m\u001b[0m\n\u001b[0m",
      "\u001b[1;32m<ipython-input-130-a3db5f83010a>\u001b[0m in \u001b[0;36mreturn_subtraction_df\u001b[1;34m(df_1, df_2, index_col)\u001b[0m\n\u001b[0;32m     26\u001b[0m \u001b[1;33m\u001b[0m\u001b[0m\n\u001b[0;32m     27\u001b[0m     \u001b[0mdf_1_num_values\u001b[0m \u001b[1;33m=\u001b[0m \u001b[0mdf_1\u001b[0m\u001b[1;33m.\u001b[0m\u001b[0mloc\u001b[0m\u001b[1;33m[\u001b[0m\u001b[0moverlapping_index_values\u001b[0m\u001b[1;33m,\u001b[0m \u001b[0mnum_cols\u001b[0m\u001b[1;33m]\u001b[0m\u001b[1;33m.\u001b[0m\u001b[0mto_numpy\u001b[0m\u001b[1;33m(\u001b[0m\u001b[1;33m)\u001b[0m\u001b[1;33m\u001b[0m\u001b[1;33m\u001b[0m\u001b[0m\n\u001b[1;32m---> 28\u001b[1;33m     \u001b[0mdf_2_num_values\u001b[0m \u001b[1;33m=\u001b[0m \u001b[0mdf_2\u001b[0m\u001b[1;33m.\u001b[0m\u001b[0mloc\u001b[0m\u001b[1;33m[\u001b[0m\u001b[0moverlapping_index_values\u001b[0m\u001b[1;33m,\u001b[0m \u001b[0mnum_cols\u001b[0m\u001b[1;33m]\u001b[0m\u001b[1;33m.\u001b[0m\u001b[0mto_numpy\u001b[0m\u001b[1;33m(\u001b[0m\u001b[1;33m)\u001b[0m\u001b[1;33m\u001b[0m\u001b[1;33m\u001b[0m\u001b[0m\n\u001b[0m\u001b[0;32m     29\u001b[0m     \u001b[0mdf_diff_values\u001b[0m \u001b[1;33m=\u001b[0m \u001b[0mdf_1_num_values\u001b[0m \u001b[1;33m-\u001b[0m \u001b[0mdf_2_num_values\u001b[0m\u001b[1;33m\u001b[0m\u001b[1;33m\u001b[0m\u001b[0m\n\u001b[0;32m     30\u001b[0m     df_diff = pd.DataFrame(\n",
      "\u001b[1;32m~conda-environments\\py3\\lib\\site-packages\\pandas\\core\\indexing.py\u001b[0m in \u001b[0;36m__getitem__\u001b[1;34m(self, key)\u001b[0m\n\u001b[0;32m    887\u001b[0m                     \u001b[1;31m# AttributeError for IntervalTree get_value\u001b[0m\u001b[1;33m\u001b[0m\u001b[1;33m\u001b[0m\u001b[1;33m\u001b[0m\u001b[0m\n\u001b[0;32m    888\u001b[0m                     \u001b[1;32mreturn\u001b[0m \u001b[0mself\u001b[0m\u001b[1;33m.\u001b[0m\u001b[0mobj\u001b[0m\u001b[1;33m.\u001b[0m\u001b[0m_get_value\u001b[0m\u001b[1;33m(\u001b[0m\u001b[1;33m*\u001b[0m\u001b[0mkey\u001b[0m\u001b[1;33m,\u001b[0m \u001b[0mtakeable\u001b[0m\u001b[1;33m=\u001b[0m\u001b[0mself\u001b[0m\u001b[1;33m.\u001b[0m\u001b[0m_takeable\u001b[0m\u001b[1;33m)\u001b[0m\u001b[1;33m\u001b[0m\u001b[1;33m\u001b[0m\u001b[0m\n\u001b[1;32m--> 889\u001b[1;33m             \u001b[1;32mreturn\u001b[0m \u001b[0mself\u001b[0m\u001b[1;33m.\u001b[0m\u001b[0m_getitem_tuple\u001b[0m\u001b[1;33m(\u001b[0m\u001b[0mkey\u001b[0m\u001b[1;33m)\u001b[0m\u001b[1;33m\u001b[0m\u001b[1;33m\u001b[0m\u001b[0m\n\u001b[0m\u001b[0;32m    890\u001b[0m         \u001b[1;32melse\u001b[0m\u001b[1;33m:\u001b[0m\u001b[1;33m\u001b[0m\u001b[1;33m\u001b[0m\u001b[0m\n\u001b[0;32m    891\u001b[0m             \u001b[1;31m# we by definition only have the 0th axis\u001b[0m\u001b[1;33m\u001b[0m\u001b[1;33m\u001b[0m\u001b[1;33m\u001b[0m\u001b[0m\n",
      "\u001b[1;32m~conda-environments\\py3\\lib\\site-packages\\pandas\\core\\indexing.py\u001b[0m in \u001b[0;36m_getitem_tuple\u001b[1;34m(self, tup)\u001b[0m\n\u001b[0;32m   1065\u001b[0m         \u001b[1;31m# ugly hack for GH #836\u001b[0m\u001b[1;33m\u001b[0m\u001b[1;33m\u001b[0m\u001b[1;33m\u001b[0m\u001b[0m\n\u001b[0;32m   1066\u001b[0m         \u001b[1;32mif\u001b[0m \u001b[0mself\u001b[0m\u001b[1;33m.\u001b[0m\u001b[0m_multi_take_opportunity\u001b[0m\u001b[1;33m(\u001b[0m\u001b[0mtup\u001b[0m\u001b[1;33m)\u001b[0m\u001b[1;33m:\u001b[0m\u001b[1;33m\u001b[0m\u001b[1;33m\u001b[0m\u001b[0m\n\u001b[1;32m-> 1067\u001b[1;33m             \u001b[1;32mreturn\u001b[0m \u001b[0mself\u001b[0m\u001b[1;33m.\u001b[0m\u001b[0m_multi_take\u001b[0m\u001b[1;33m(\u001b[0m\u001b[0mtup\u001b[0m\u001b[1;33m)\u001b[0m\u001b[1;33m\u001b[0m\u001b[1;33m\u001b[0m\u001b[0m\n\u001b[0m\u001b[0;32m   1068\u001b[0m \u001b[1;33m\u001b[0m\u001b[0m\n\u001b[0;32m   1069\u001b[0m         \u001b[1;32mreturn\u001b[0m \u001b[0mself\u001b[0m\u001b[1;33m.\u001b[0m\u001b[0m_getitem_tuple_same_dim\u001b[0m\u001b[1;33m(\u001b[0m\u001b[0mtup\u001b[0m\u001b[1;33m)\u001b[0m\u001b[1;33m\u001b[0m\u001b[1;33m\u001b[0m\u001b[0m\n",
      "\u001b[1;32m~conda-environments\\py3\\lib\\site-packages\\pandas\\core\\indexing.py\u001b[0m in \u001b[0;36m_multi_take\u001b[1;34m(self, tup)\u001b[0m\n\u001b[0;32m   1019\u001b[0m         d = {\n\u001b[0;32m   1020\u001b[0m             \u001b[0maxis\u001b[0m\u001b[1;33m:\u001b[0m \u001b[0mself\u001b[0m\u001b[1;33m.\u001b[0m\u001b[0m_get_listlike_indexer\u001b[0m\u001b[1;33m(\u001b[0m\u001b[0mkey\u001b[0m\u001b[1;33m,\u001b[0m \u001b[0maxis\u001b[0m\u001b[1;33m)\u001b[0m\u001b[1;33m\u001b[0m\u001b[1;33m\u001b[0m\u001b[0m\n\u001b[1;32m-> 1021\u001b[1;33m             \u001b[1;32mfor\u001b[0m \u001b[1;33m(\u001b[0m\u001b[0mkey\u001b[0m\u001b[1;33m,\u001b[0m \u001b[0maxis\u001b[0m\u001b[1;33m)\u001b[0m \u001b[1;32min\u001b[0m \u001b[0mzip\u001b[0m\u001b[1;33m(\u001b[0m\u001b[0mtup\u001b[0m\u001b[1;33m,\u001b[0m \u001b[0mself\u001b[0m\u001b[1;33m.\u001b[0m\u001b[0mobj\u001b[0m\u001b[1;33m.\u001b[0m\u001b[0m_AXIS_ORDERS\u001b[0m\u001b[1;33m)\u001b[0m\u001b[1;33m\u001b[0m\u001b[1;33m\u001b[0m\u001b[0m\n\u001b[0m\u001b[0;32m   1022\u001b[0m         }\n\u001b[0;32m   1023\u001b[0m         \u001b[1;32mreturn\u001b[0m \u001b[0mself\u001b[0m\u001b[1;33m.\u001b[0m\u001b[0mobj\u001b[0m\u001b[1;33m.\u001b[0m\u001b[0m_reindex_with_indexers\u001b[0m\u001b[1;33m(\u001b[0m\u001b[0md\u001b[0m\u001b[1;33m,\u001b[0m \u001b[0mcopy\u001b[0m\u001b[1;33m=\u001b[0m\u001b[1;32mTrue\u001b[0m\u001b[1;33m,\u001b[0m \u001b[0mallow_dups\u001b[0m\u001b[1;33m=\u001b[0m\u001b[1;32mTrue\u001b[0m\u001b[1;33m)\u001b[0m\u001b[1;33m\u001b[0m\u001b[1;33m\u001b[0m\u001b[0m\n",
      "\u001b[1;32m~conda-environments\\py3\\lib\\site-packages\\pandas\\core\\indexing.py\u001b[0m in \u001b[0;36m<dictcomp>\u001b[1;34m(.0)\u001b[0m\n\u001b[0;32m   1019\u001b[0m         d = {\n\u001b[0;32m   1020\u001b[0m             \u001b[0maxis\u001b[0m\u001b[1;33m:\u001b[0m \u001b[0mself\u001b[0m\u001b[1;33m.\u001b[0m\u001b[0m_get_listlike_indexer\u001b[0m\u001b[1;33m(\u001b[0m\u001b[0mkey\u001b[0m\u001b[1;33m,\u001b[0m \u001b[0maxis\u001b[0m\u001b[1;33m)\u001b[0m\u001b[1;33m\u001b[0m\u001b[1;33m\u001b[0m\u001b[0m\n\u001b[1;32m-> 1021\u001b[1;33m             \u001b[1;32mfor\u001b[0m \u001b[1;33m(\u001b[0m\u001b[0mkey\u001b[0m\u001b[1;33m,\u001b[0m \u001b[0maxis\u001b[0m\u001b[1;33m)\u001b[0m \u001b[1;32min\u001b[0m \u001b[0mzip\u001b[0m\u001b[1;33m(\u001b[0m\u001b[0mtup\u001b[0m\u001b[1;33m,\u001b[0m \u001b[0mself\u001b[0m\u001b[1;33m.\u001b[0m\u001b[0mobj\u001b[0m\u001b[1;33m.\u001b[0m\u001b[0m_AXIS_ORDERS\u001b[0m\u001b[1;33m)\u001b[0m\u001b[1;33m\u001b[0m\u001b[1;33m\u001b[0m\u001b[0m\n\u001b[0m\u001b[0;32m   1022\u001b[0m         }\n\u001b[0;32m   1023\u001b[0m         \u001b[1;32mreturn\u001b[0m \u001b[0mself\u001b[0m\u001b[1;33m.\u001b[0m\u001b[0mobj\u001b[0m\u001b[1;33m.\u001b[0m\u001b[0m_reindex_with_indexers\u001b[0m\u001b[1;33m(\u001b[0m\u001b[0md\u001b[0m\u001b[1;33m,\u001b[0m \u001b[0mcopy\u001b[0m\u001b[1;33m=\u001b[0m\u001b[1;32mTrue\u001b[0m\u001b[1;33m,\u001b[0m \u001b[0mallow_dups\u001b[0m\u001b[1;33m=\u001b[0m\u001b[1;32mTrue\u001b[0m\u001b[1;33m)\u001b[0m\u001b[1;33m\u001b[0m\u001b[1;33m\u001b[0m\u001b[0m\n",
      "\u001b[1;32m~conda-environments\\py3\\lib\\site-packages\\pandas\\core\\indexing.py\u001b[0m in \u001b[0;36m_get_listlike_indexer\u001b[1;34m(self, key, axis, raise_missing)\u001b[0m\n\u001b[0;32m   1264\u001b[0m             \u001b[0mkeyarr\u001b[0m\u001b[1;33m,\u001b[0m \u001b[0mindexer\u001b[0m\u001b[1;33m,\u001b[0m \u001b[0mnew_indexer\u001b[0m \u001b[1;33m=\u001b[0m \u001b[0max\u001b[0m\u001b[1;33m.\u001b[0m\u001b[0m_reindex_non_unique\u001b[0m\u001b[1;33m(\u001b[0m\u001b[0mkeyarr\u001b[0m\u001b[1;33m)\u001b[0m\u001b[1;33m\u001b[0m\u001b[1;33m\u001b[0m\u001b[0m\n\u001b[0;32m   1265\u001b[0m \u001b[1;33m\u001b[0m\u001b[0m\n\u001b[1;32m-> 1266\u001b[1;33m         \u001b[0mself\u001b[0m\u001b[1;33m.\u001b[0m\u001b[0m_validate_read_indexer\u001b[0m\u001b[1;33m(\u001b[0m\u001b[0mkeyarr\u001b[0m\u001b[1;33m,\u001b[0m \u001b[0mindexer\u001b[0m\u001b[1;33m,\u001b[0m \u001b[0maxis\u001b[0m\u001b[1;33m,\u001b[0m \u001b[0mraise_missing\u001b[0m\u001b[1;33m=\u001b[0m\u001b[0mraise_missing\u001b[0m\u001b[1;33m)\u001b[0m\u001b[1;33m\u001b[0m\u001b[1;33m\u001b[0m\u001b[0m\n\u001b[0m\u001b[0;32m   1267\u001b[0m         \u001b[1;32mreturn\u001b[0m \u001b[0mkeyarr\u001b[0m\u001b[1;33m,\u001b[0m \u001b[0mindexer\u001b[0m\u001b[1;33m\u001b[0m\u001b[1;33m\u001b[0m\u001b[0m\n\u001b[0;32m   1268\u001b[0m \u001b[1;33m\u001b[0m\u001b[0m\n",
      "\u001b[1;32m~conda-environments\\py3\\lib\\site-packages\\pandas\\core\\indexing.py\u001b[0m in \u001b[0;36m_validate_read_indexer\u001b[1;34m(self, key, indexer, axis, raise_missing)\u001b[0m\n\u001b[0;32m   1320\u001b[0m             \u001b[1;32mwith\u001b[0m \u001b[0moption_context\u001b[0m\u001b[1;33m(\u001b[0m\u001b[1;34m\"display.max_seq_items\"\u001b[0m\u001b[1;33m,\u001b[0m \u001b[1;36m10\u001b[0m\u001b[1;33m,\u001b[0m \u001b[1;34m\"display.width\"\u001b[0m\u001b[1;33m,\u001b[0m \u001b[1;36m80\u001b[0m\u001b[1;33m)\u001b[0m\u001b[1;33m:\u001b[0m\u001b[1;33m\u001b[0m\u001b[1;33m\u001b[0m\u001b[0m\n\u001b[0;32m   1321\u001b[0m                 raise KeyError(\n\u001b[1;32m-> 1322\u001b[1;33m                     \u001b[1;34m\"Passing list-likes to .loc or [] with any missing labels \"\u001b[0m\u001b[1;33m\u001b[0m\u001b[1;33m\u001b[0m\u001b[0m\n\u001b[0m\u001b[0;32m   1323\u001b[0m                     \u001b[1;34m\"is no longer supported. \"\u001b[0m\u001b[1;33m\u001b[0m\u001b[1;33m\u001b[0m\u001b[0m\n\u001b[0;32m   1324\u001b[0m                     \u001b[1;34mf\"The following labels were missing: {not_found}. \"\u001b[0m\u001b[1;33m\u001b[0m\u001b[1;33m\u001b[0m\u001b[0m\n",
      "\u001b[1;31mKeyError\u001b[0m: \"Passing list-likes to .loc or [] with any missing labels is no longer supported. The following labels were missing: Index(['n_members'], dtype='object'). See https://pandas.pydata.org/pandas-docs/stable/user_guide/indexing.html#deprecate-loc-reindex-listlike\""
     ]
    }
   ],
   "source": [
    "return_subtraction_df(df_1, df_2, \"year_month\")"
   ]
  },
  {
   "cell_type": "code",
   "execution_count": 111,
   "metadata": {
    "ExecuteTime": {
     "end_time": "2021-05-14T09:10:22.034222Z",
     "start_time": "2021-05-14T09:10:22.025223Z"
    }
   },
   "outputs": [
    {
     "data": {
      "text/html": [
       "<div>\n",
       "<style scoped>\n",
       "    .dataframe tbody tr th:only-of-type {\n",
       "        vertical-align: middle;\n",
       "    }\n",
       "\n",
       "    .dataframe tbody tr th {\n",
       "        vertical-align: top;\n",
       "    }\n",
       "\n",
       "    .dataframe thead th {\n",
       "        text-align: right;\n",
       "    }\n",
       "</style>\n",
       "<table border=\"1\" class=\"dataframe\">\n",
       "  <thead>\n",
       "    <tr style=\"text-align: right;\">\n",
       "      <th></th>\n",
       "      <th>n_trxs</th>\n",
       "      <th>n_members</th>\n",
       "    </tr>\n",
       "  </thead>\n",
       "  <tbody>\n",
       "    <tr>\n",
       "      <th>1</th>\n",
       "      <td>68071</td>\n",
       "      <td>30098</td>\n",
       "    </tr>\n",
       "    <tr>\n",
       "      <th>2</th>\n",
       "      <td>38652</td>\n",
       "      <td>19158</td>\n",
       "    </tr>\n",
       "  </tbody>\n",
       "</table>\n",
       "</div>"
      ],
      "text/plain": [
       "   n_trxs  n_members\n",
       "1   68071      30098\n",
       "2   38652      19158"
      ]
     },
     "execution_count": 111,
     "metadata": {},
     "output_type": "execute_result"
    }
   ],
   "source": [
    "df_1.loc[[1, 2], ['n_trxs', 'n_members']]"
   ]
  },
  {
   "cell_type": "code",
   "execution_count": null,
   "metadata": {},
   "outputs": [],
   "source": []
  }
 ],
 "metadata": {
  "kernelspec": {
   "display_name": "Python 3",
   "language": "python",
   "name": "python3"
  },
  "language_info": {
   "codemirror_mode": {
    "name": "ipython",
    "version": 3
   },
   "file_extension": ".py",
   "mimetype": "text/x-python",
   "name": "python",
   "nbconvert_exporter": "python",
   "pygments_lexer": "ipython3",
   "version": "3.7.9"
  },
  "toc": {
   "base_numbering": 1,
   "nav_menu": {},
   "number_sections": true,
   "sideBar": false,
   "skip_h1_title": true,
   "title_cell": "Table of Contents",
   "title_sidebar": "Contents",
   "toc_cell": true,
   "toc_position": {},
   "toc_section_display": true,
   "toc_window_display": false
  }
 },
 "nbformat": 4,
 "nbformat_minor": 4
}
